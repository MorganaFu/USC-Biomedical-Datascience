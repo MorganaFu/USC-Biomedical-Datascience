{
  "nbformat": 4,
  "nbformat_minor": 0,
  "metadata": {
    "colab": {
      "provenance": []
    },
    "kernelspec": {
      "name": "python3",
      "display_name": "Python 3"
    },
    "language_info": {
      "name": "python"
    }
  },
  "cells": [
    {
      "cell_type": "markdown",
      "source": [
        "Instructions:\n",
        "In a copy of this Colab notebook, use the Python fundamentals presented in the previous sections to fix the errors in the code below."
      ],
      "metadata": {
        "id": "sJUhhaSluyzl"
      }
    },
    {
      "cell_type": "markdown",
      "source": [
        "Q1: Select the O antigen from this list."
      ],
      "metadata": {
        "id": "0xAwrwjLuz94"
      }
    },
    {
      "cell_type": "code",
      "source": [
        "Blood Antigens == ['A', 'B', 'O']\n",
        "Blood Antigens[3]"
      ],
      "metadata": {
        "colab": {
          "base_uri": "https://localhost:8080/",
          "height": 145
        },
        "id": "t3pln-vevBps",
        "outputId": "70bbd74f-88f7-41ad-a788-a60b7d3717a2"
      },
      "execution_count": null,
      "outputs": [
        {
          "output_type": "error",
          "ename": "SyntaxError",
          "evalue": "ignored",
          "traceback": [
            "\u001b[0;36m  File \u001b[0;32m\"<ipython-input-10-ece10b739e86>\"\u001b[0;36m, line \u001b[0;32m1\u001b[0m\n\u001b[0;31m    Blood Antigens == ['A', 'B', 'O']\u001b[0m\n\u001b[0m          ^\u001b[0m\n\u001b[0;31mSyntaxError\u001b[0m\u001b[0;31m:\u001b[0m invalid syntax\n"
          ]
        }
      ]
    },
    {
      "cell_type": "markdown",
      "source": [
        "The original code has three issues:\n",
        "1. In the nameing syntax of variables, you should not leave a space between the name of variables. use \"_\" instead.\n",
        "2. You want to store the list into the variable called \"Blood_Antigens\". You should use \"=\" ranther than \"==\".\n",
        "3. You want to find elements 'o' in the list, so the inde should be 2 rather than 3, because the index aof the list starts from 0.\n"
      ],
      "metadata": {
        "id": "YJuNFX_UwY54"
      }
    },
    {
      "cell_type": "code",
      "source": [
        "Blood_Antigens = ['A', 'B', 'O']\n",
        "print(Blood_Antigens[2])\n"
      ],
      "metadata": {
        "colab": {
          "base_uri": "https://localhost:8080/"
        },
        "id": "gFo6GtopA8w2",
        "outputId": "4fbc90b4-3b21-4076-d26f-9cf33c93e7a7"
      },
      "execution_count": null,
      "outputs": [
        {
          "output_type": "stream",
          "name": "stdout",
          "text": [
            "O\n"
          ]
        }
      ]
    },
    {
      "cell_type": "markdown",
      "source": [
        "Q2: Lookup the O-compatible plasma types from this dictionary."
      ],
      "metadata": {
        "id": "j4-LJ3lBuwpF"
      }
    },
    {
      "cell_type": "code",
      "source": [
        "bloodTypeCompatibilities = { A:['A', 'AB'], B:['B', 'AB', AB:['AB'] , O: ['A', 'B', 'AB', 'O']  }\n",
        "bloodTypeCompatibilities[0]"
      ],
      "metadata": {
        "colab": {
          "base_uri": "https://localhost:8080/",
          "height": 145
        },
        "id": "a1ZZPWZ-xnjX",
        "outputId": "27a6f0d4-a4d6-4e43-ddd7-b0301b7c4410"
      },
      "execution_count": null,
      "outputs": [
        {
          "output_type": "error",
          "ename": "SyntaxError",
          "evalue": "ignored",
          "traceback": [
            "\u001b[0;36m  File \u001b[0;32m\"<ipython-input-11-6a89c7a59dbe>\"\u001b[0;36m, line \u001b[0;32m1\u001b[0m\n\u001b[0;31m    bloodTypeCompatibilities = { A:['A', 'AB'], B:['B', 'AB', AB:['AB'] , O: ['A', 'B', 'AB', 'O']  }\u001b[0m\n\u001b[0m                                                                                                    ^\u001b[0m\n\u001b[0;31mSyntaxError\u001b[0m\u001b[0;31m:\u001b[0m closing parenthesis '}' does not match opening parenthesis '['\n"
          ]
        }
      ]
    },
    {
      "cell_type": "markdown",
      "source": [],
      "metadata": {
        "id": "v1PCQv4A3DTU"
      }
    },
    {
      "cell_type": "markdown",
      "source": [
        "The original code has three issues:\n",
        "1. You omit the other half of the \"]\" of 'B':['B', 'AB']\n",
        "2. The keys for the dictionary \"bloodTypeCompatibilities\" should be quoted if they are strings.\n",
        "3. If you want to find O-compatible plasma types, you should use index \"O\""
      ],
      "metadata": {
        "id": "0_hzl1H3y08p"
      }
    },
    {
      "cell_type": "code",
      "source": [
        "bloodTypeCompatibilities = {'A':['A', 'AB'], 'B':['B', 'AB'], 'AB':['AB'] , 'O': ['A', 'B', 'AB', 'O']}\n",
        "print(bloodTypeCompatibilities['O'])\n"
      ],
      "metadata": {
        "colab": {
          "base_uri": "https://localhost:8080/"
        },
        "id": "aAnkOvX4xtel",
        "outputId": "51d94811-87e7-46e7-ba42-05b469ecddac"
      },
      "execution_count": null,
      "outputs": [
        {
          "output_type": "stream",
          "name": "stdout",
          "text": [
            "['A', 'B', 'AB', 'O']\n"
          ]
        }
      ]
    },
    {
      "cell_type": "markdown",
      "source": [
        "Q3: Extract the lab mouse strain designation, C57BL/6, from the following string, excluding the J denoting the Jackson Laboratory where it was bred."
      ],
      "metadata": {
        "id": "7kE05blGkoNo"
      }
    },
    {
      "cell_type": "code",
      "source": [
        "sarsCov2Lineage = 'Mus musculus C57BL/6J'\n",
        "\n",
        "sarsCov2Lineage('-1':'13')"
      ],
      "metadata": {
        "colab": {
          "base_uri": "https://localhost:8080/",
          "height": 145
        },
        "id": "e89VjkqAk0nO",
        "outputId": "a03deb4d-5ad8-466c-f020-a9407161784a"
      },
      "execution_count": null,
      "outputs": [
        {
          "output_type": "error",
          "ename": "SyntaxError",
          "evalue": "ignored",
          "traceback": [
            "\u001b[0;36m  File \u001b[0;32m\"<ipython-input-3-6849f4bea06a>\"\u001b[0;36m, line \u001b[0;32m3\u001b[0m\n\u001b[0;31m    sarsCov2Lineage('-1':'13')\u001b[0m\n\u001b[0m                        ^\u001b[0m\n\u001b[0;31mSyntaxError\u001b[0m\u001b[0;31m:\u001b[0m invalid syntax\n"
          ]
        }
      ]
    },
    {
      "cell_type": "markdown",
      "source": [
        "The original code has one issue:\n",
        "1. If you want to do string slicing in Python, you should use square brackets\"[]\"; also, you should not include the single quotation ''\n",
        "2. If you do not want \"J\", you should not use index \"-1\", since index \"-1\" represents for the last character.\n"
      ],
      "metadata": {
        "id": "_xf0HrlfnR4C"
      }
    },
    {
      "cell_type": "code",
      "source": [
        "sarsCov2Lineage = 'Mus musculus C57BL/6J'\n",
        "\n",
        "sarsCov2Lineage[13:-2]"
      ],
      "metadata": {
        "colab": {
          "base_uri": "https://localhost:8080/",
          "height": 36
        },
        "id": "_txY0wa8mPJ7",
        "outputId": "eb7b7fc4-9166-4c8e-db65-f23695585540"
      },
      "execution_count": null,
      "outputs": [
        {
          "output_type": "execute_result",
          "data": {
            "text/plain": [
              "'C57BL/'"
            ],
            "application/vnd.google.colaboratory.intrinsic+json": {
              "type": "string"
            }
          },
          "metadata": {},
          "execution_count": 2
        }
      ]
    },
    {
      "cell_type": "markdown",
      "source": [
        "Q4: Print the total length in bp of 16S primers within this dictionary."
      ],
      "metadata": {
        "id": "2kecHeq6r6by"
      }
    },
    {
      "cell_type": "code",
      "source": [
        "primers16S = {'8F': 'AGAGTTTGATCCTGGCTCAG', '27F':'AGAGTTTGATCMTGGCTCAG', 'CYA106F':'CGGACGGGTGAGTAACGCGTGA','895F':'CRCCTGGGGAGTRCRG'}\n",
        "\n",
        "Print( len(primers16S[`8F`]) + len(primers16S[`27F`]) + len(primers16S[`CYA106F`]) + len(primers16S[`895F`]) )"
      ],
      "metadata": {
        "colab": {
          "base_uri": "https://localhost:8080/",
          "height": 145
        },
        "id": "gQIOlwW8u72-",
        "outputId": "89eb67eb-0b92-416d-bfdf-60ad1539da87"
      },
      "execution_count": null,
      "outputs": [
        {
          "output_type": "error",
          "ename": "SyntaxError",
          "evalue": "ignored",
          "traceback": [
            "\u001b[0;36m  File \u001b[0;32m\"<ipython-input-25-dcb5bea1ae6c>\"\u001b[0;36m, line \u001b[0;32m3\u001b[0m\n\u001b[0;31m    Print( len(primers16S[`8F`]) + len(primers16S[`27F`]) + len(primers16S[`CYA106F`]) + len(primers16S[`895F`]) )\u001b[0m\n\u001b[0m                           ^\u001b[0m\n\u001b[0;31mSyntaxError\u001b[0m\u001b[0;31m:\u001b[0m invalid decimal literal\n"
          ]
        }
      ]
    },
    {
      "cell_type": "markdown",
      "source": [
        "The original code has the first issue which is:\n",
        "1. Function 'print' should star at lowercase\n",
        "2. Instead of using backticks (), you should use single quotes (') or double quotes (\"`) for keys when accessing dictionary values in Python."
      ],
      "metadata": {
        "id": "lk09EjeltVj4"
      }
    },
    {
      "cell_type": "code",
      "source": [
        "primers16S = {'8F': 'AGAGTTTGATCCTGGCTCAG', '27F':'AGAGTTTGATCMTGGCTCAG', 'CYA106F':'CGGACGGGTGAGTAACGCGTGA','895F':'CRCCTGGGGAGTRCRG'}\n",
        "\n",
        "print( len(primers16S['8F']) + len(primers16S['27F']) + len(primers16S['CYA106F']) + len(primers16S['895F']) )"
      ],
      "metadata": {
        "colab": {
          "base_uri": "https://localhost:8080/"
        },
        "id": "W5pWbMd-r-ut",
        "outputId": "58efa168-3b87-45a1-c5ee-fe8812867d89"
      },
      "execution_count": null,
      "outputs": [
        {
          "output_type": "stream",
          "name": "stdout",
          "text": [
            "78\n"
          ]
        }
      ]
    },
    {
      "cell_type": "markdown",
      "source": [
        "What if I add a pair of single quotation to the value of each key? Then the value would become a list rather than original string. Each four lists only contain one item. In Python, the len() function returns the length of a list or string. So in the following case, len(primers16S['8F']) returns 1 because the list contains one item, so as other keys."
      ],
      "metadata": {
        "id": "ajSulleLwQBc"
      }
    },
    {
      "cell_type": "code",
      "source": [
        "primers16S = {'8F': ['AGAGTTTGATCCTGGCTCAG'], '27F':['AGAGTTTGATCCTGGCTCAG'], 'CYA106F':['AGAGTTTGATCCTGGCTCAG'],'895F':['CRCCTGGGGAGTRCRG']}\n",
        "\n",
        "print( len(primers16S['8F']) + len(primers16S['27F']) + len(primers16S['CYA106F']) + len(primers16S['895F']) )"
      ],
      "metadata": {
        "colab": {
          "base_uri": "https://localhost:8080/"
        },
        "id": "ErPRw4EbsGYP",
        "outputId": "1a4cbb7d-b570-4511-b352-5841560e426c"
      },
      "execution_count": null,
      "outputs": [
        {
          "output_type": "stream",
          "name": "stdout",
          "text": [
            "4\n"
          ]
        }
      ]
    },
    {
      "cell_type": "markdown",
      "source": [
        "If I wanted to sum the lengths of the individual primer strings, I would need to index into the lists to get the strings and then take their lengths. Like this:"
      ],
      "metadata": {
        "id": "RYNEcRyz1Pvk"
      }
    },
    {
      "cell_type": "code",
      "source": [
        "primers16S = {'8F': ['AGAGTTTGATCCTGGCTCAG'], '27F':['AGAGTTTGATCCTGGCTCAG'], 'CYA106F':['CGGACGGGTGAGTAACGCGTGA'],'895F':['CRCCTGGGGAGTRCRG']}\n",
        "print(\n",
        "    len(primers16S['8F'][0]) +\n",
        "    len(primers16S['27F'][0]) +\n",
        "    len(primers16S['CYA106F'][0]) +\n",
        "    len(primers16S['895F'][0])\n",
        ")\n"
      ],
      "metadata": {
        "colab": {
          "base_uri": "https://localhost:8080/"
        },
        "id": "3C-mKbNKt2_h",
        "outputId": "3efdd5cb-b744-4263-f8f9-9792abd5aa88"
      },
      "execution_count": null,
      "outputs": [
        {
          "output_type": "stream",
          "name": "stdout",
          "text": [
            "78\n"
          ]
        }
      ]
    }
  ]
}